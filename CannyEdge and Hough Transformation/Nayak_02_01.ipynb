{
 "cells": [
  {
   "cell_type": "markdown",
   "metadata": {},
   "source": [
    "# Nayak, Anil Kumar\n",
    "# 1001-396-015\n",
    "# 2017-02-20\n",
    "# Assignment_02_01"
   ]
  },
  {
   "cell_type": "code",
   "execution_count": 1,
   "metadata": {
    "collapsed": false
   },
   "outputs": [
    {
     "name": "stderr",
     "output_type": "stream",
     "text": [
      "E:\\Program File X\\Anaconda\\lib\\site-packages\\IPython\\html.py:14: ShimWarning: The `IPython.html` package has been deprecated. You should import from `notebook` instead. `IPython.html.widgets` has moved to `ipywidgets`.\n",
      "  \"`IPython.html.widgets` has moved to `ipywidgets`.\", ShimWarning)\n"
     ]
    }
   ],
   "source": [
    "from skimage import data\n",
    "from IPython.html.widgets import interact, fixed\n",
    "from ipywidgets import FloatSlider, IntSlider, Label\n",
    "import matplotlib.pyplot as plt\n",
    "import numpy as np\n",
    "import cv2\n",
    "\n",
    "#img = cv2.imread('image.PNG',0) \n",
    "img=data.checkerboard()"
   ]
  },
  {
   "cell_type": "code",
   "execution_count": 94,
   "metadata": {
    "collapsed": true
   },
   "outputs": [],
   "source": [
    "#Steps\n",
    "#1. Canny Edge Detection\n",
    "#2. Binary Image\n",
    "\n",
    "\n",
    "def my_HoughLines(input_image,rho_resolution,theta_resolution,threshold):\n",
    "    #1. Edge detection, e.g. using the Canny edge detector [2].\n",
    "    edges = cv2.Canny(input_image,50,150,apertureSize = 3)\n",
    "    \n",
    "    #2. Mapping of edge points to the Hough space and storage in an accumulator.\n",
    "    #2.1 Define Accumulator\n",
    "    #rho_dimension = rho_resolution*2+1\n",
    "    #theta_dimension = theta_resolution*2+1\n",
    "    \n",
    "    w, h = input_image.shape\n",
    "    digonal = np.sqrt(w**2+h**2)\n",
    "    digonal = np.ceil(digonal)\n",
    "    max_size=max(w,h)**2\n",
    "    #\n",
    "    theta_bin = np.deg2rad(np.linspace(0,180,theta_resolution))\n",
    "    rho_bin = np.linspace(-digonal,digonal,rho_resolution)\n",
    "     \n",
    "    accumulator = np.zeros((rho_resolution,theta_resolution))\n",
    "\n",
    "    for x in range(w):\n",
    "        for y in range(h):\n",
    "            #Got the Point\n",
    "            if edges[x][y] == 255:\n",
    "                #calculate r and t\n",
    "                for t in range(theta_resolution):\n",
    "                    theta = theta_bin[t]\n",
    "                    rho = x * np.cos(theta) + y * np.sin(theta)\n",
    "                    r = 0;\n",
    "                    for r1 in range(rho_resolution):\n",
    "                        if rho_bin[r1]>=rho:\n",
    "                            r = r1\n",
    "                            break\n",
    "                    \n",
    "                    accumulator[r1,t] = accumulator[r1,t] + 1\n",
    "    lines = []\n",
    "    for r in range(rho_resolution):\n",
    "        for t in range(theta_resolution):\n",
    "            if accumulator[r,t] >= threshold:\n",
    "                line = []\n",
    "                line.append(rho_bin[r])\n",
    "                line.append(theta_bin[t])\n",
    "                lines.append(line) \n",
    "                \n",
    "    #3. Interpretation of the accumulator to yield lines of infinite length. The interpretation is\n",
    "    #done by thresholding and possibly other constraints.\n",
    "    #4. Conversion of infinite lines to finite lines.\n",
    "   \n",
    "    return lines;"
   ]
  },
  {
   "cell_type": "code",
   "execution_count": 95,
   "metadata": {
    "collapsed": true
   },
   "outputs": [],
   "source": [
    "def HoughLines_OpenCV(input_image,rho_resolution,theta_resolution,threshold):\n",
    "    \n",
    "    edges = cv2.Canny(input_image,50,150,apertureSize = 3)\n",
    "    # edges = np.where(edges>0,1,0)\n",
    "    \n",
    "    lines = cv2.HoughLines(edges,1,np.pi/180,120)\n",
    "       \n",
    "    w, h = input_image.shape\n",
    "    output_image = np.empty((w, h, 3))\n",
    "    output_image[:, :, 2] =  output_image[:, :, 1] =  output_image[:, :, 0] =  input_image/255.\n",
    "    max_size=max(w,h)**2\n",
    "    \n",
    "    #print(lines)\n",
    "    \n",
    "    for rho_theta in lines:\n",
    "        rho=rho_theta[0][0]\n",
    "        theta=rho_theta[0][1]\n",
    "        a = np.cos(theta)\n",
    "        b = np.sin(theta)\n",
    "        x0 = a*rho\n",
    "        y0 = b*rho\n",
    "        x1 = int(x0 + max_size*(-b))\n",
    "        y1 = int(y0 + max_size*(a))\n",
    "        x2 = int(x0 - max_size*(-b))\n",
    "        y2 = int(y0 - max_size*(a))\n",
    "        cv2.line(output_image,(x1,y1),(x2,y2),(1,0,0),1)\n",
    "        \n",
    "    #cv2.imwrite('houghlines3.jpg',img)\n",
    "    \n",
    "      \n",
    "    return edges,output_image"
   ]
  },
  {
   "cell_type": "code",
   "execution_count": 96,
   "metadata": {
    "collapsed": true
   },
   "outputs": [],
   "source": [
    "def hough_tranformation(input_image,rho_resolution=100,theta_resolution=360,threshold=20):\n",
    "    canny_edge,opencv_hough_line = HoughLines_OpenCV(input_image,rho_resolution,theta_resolution,threshold)\n",
    "    my_hough_lines = my_HoughLines(input_image,rho_resolution,theta_resolution,threshold)\n",
    "    \n",
    "    #print(lines)\n",
    "    w, h = input_image.shape\n",
    "    max_size=max(w,h)**2\n",
    "    hough_line_image = np.empty((w, h, 3))\n",
    "    hough_line_image[:, :, 2] =  hough_line_image[:, :, 1] =  hough_line_image[:, :, 0] =  input_image/255.\n",
    "    for rho_theta in my_hough_lines:\n",
    "        rho=rho_theta[0]\n",
    "        theta=rho_theta[1]\n",
    "        a = np.cos(theta)\n",
    "        b = np.sin(theta)\n",
    "        x0 = a*rho\n",
    "        y0 = b*rho\n",
    "        x1 = int(x0 + max_size*(-b))\n",
    "        y1 = int(y0 + max_size*(a))\n",
    "        x2 = int(x0 - max_size*(-b))\n",
    "        y2 = int(y0 - max_size*(a))\n",
    "        cv2.line(hough_line_image,(x1,y1),(x2,y2),(1,0,0),1)\n",
    "    \n",
    "    fig, axes_array = plt.subplots(1, 4)\n",
    "    fig.set_size_inches(9,3)\n",
    "    image_plot = axes_array[0].imshow(input_image,cmap=plt.cm.gray) \n",
    "    axes_array[0].axis('off')\n",
    "    axes_array[0].set(title='Original image')\n",
    "    image_plot = axes_array[1].imshow(canny_edge,cmap=plt.cm.gray)\n",
    "    axes_array[1].axis('off')\n",
    "    axes_array[1].set(title='Canny Edges OpenCV')\n",
    "    image_plot = axes_array[2].imshow(opencv_hough_line)\n",
    "    axes_array[2].axis('off')\n",
    "    axes_array[2].set(title='Hough Lines OpenCV')\n",
    "    image_plot = axes_array[3].imshow(hough_line_image)\n",
    "    axes_array[3].axis('off')\n",
    "    axes_array[3].set(title='Hough Lines Mine')\n",
    "    \n",
    "    plt.show()\n",
    "    return 0"
   ]
  },
  {
   "cell_type": "code",
   "execution_count": 99,
   "metadata": {
    "collapsed": false
   },
   "outputs": [
    {
     "data": {
      "image/png": "[encoded data removed]",
      "text/plain": [
       "<matplotlib.figure.Figure at 0xb6a3fd0>"
      ]
     },
     "metadata": {},
     "output_type": "display_data"
    },
    {
     "data": {
      "text/plain": [
       "0"
      ]
     },
     "metadata": {},
     "output_type": "display_data"
    },
    {
     "data": {
      "text/plain": [
       "<function __main__.hough_tranformation>"
      ]
     },
     "execution_count": 99,
     "metadata": {},
     "output_type": "execute_result"
    }
   ],
   "source": [
    "interact(hough_tranformation,\n",
    "         input_image=fixed(img),\n",
    "         rho_resolution=IntSlider(min=10, max=1000, step=1,value=202,continuous_update=False),\n",
    "         theta_resolution=IntSlider(min=10, max=1000, step=1,value=360,continuous_update=False),\n",
    "         threshold=IntSlider(min=5, max=1000, step=1,value=193,continuous_update=False)) "
   ]
  },
  {
   "cell_type": "markdown",
   "metadata": {},
   "source": [
    "# Hough Transformation Circle Detection"
   ]
  },
  {
   "cell_type": "code",
   "execution_count": null,
   "metadata": {
    "collapsed": false
   },
   "outputs": [],
   "source": [
    "def my_HoughCircles(input_image, resolution, threshold, min_radius, max_radius):\n",
    "    canny_edge_circle = cv2.Canny(input_image,50,150,apertureSize = 3)\n",
    "    #canny_edge_circle = cv2.Canny(input_image, 32, 2)\n",
    "   \n",
    "    w,h = canny_edge_circle.shape\n",
    "    \n",
    "    radius_bin = np.linspace(min_radius,max_radius,resolution)\n",
    "    a_bin = np.linspace(w-resolution,w+resolution,resolution)\n",
    "    b_bin = np.linspace(h-resolution,h+resolution,resolution)\n",
    "    theta_bin = np.linspace(0,360,16)\n",
    "    \n",
    "    accumulator = np.zeros((resolution,resolution,resolution))\n",
    " \n",
    "    #print(radius_bin)\n",
    "    #print(a_bin)\n",
    "    #print(b_bin)\n",
    "    #print(theta_bin)\n",
    "    #for i in range(0,len(x_idxs)):\n",
    "       # x = x_idxs[i]\n",
    "        #y = y_idxs[i]\n",
    "    for x in range(w):\n",
    "        for y in range(h):\n",
    "            #Got the Point\n",
    "            if canny_edge_circle[x][y] == 255:\n",
    "                #print(1)\n",
    "                for r in radius_bin:\n",
    "                    for t in theta_bin:\n",
    "                        a = x - (r * np.cos(t * np.pi / 180));\n",
    "                        b = y - (r * np.sin(t * np.pi / 180));\n",
    "\n",
    "                        for n in range(0,len(a_bin)):\n",
    "                            if a_bin[n]>a:\n",
    "                                break\n",
    "                        for m in range(0,len(b_bin)):\n",
    "                            if b_bin[m]>b:\n",
    "                                break\n",
    "                        for o in range(0,len(radius_bin)):\n",
    "                            if radius_bin[o]>r:\n",
    "                                break\n",
    "                       \n",
    "                        #print(a,b,r)\n",
    "                        #print(n,m,o)\n",
    "                        accumulator[o,n,m] = accumulator[o,n,m] + 1;\n",
    "    \n",
    "    r_idxs, a_idxs, b_idxs = np.where(accumulator>threshold)\n",
    "    circles = []\n",
    "   \n",
    "   \n",
    "    \n",
    "    for i in range(0,len(r_idxs)):\n",
    "        circle = []\n",
    "        circle.append((int)(np.ceil(a_bin[a_idxs[i]])))\n",
    "        circle.append((int)(np.ceil(b_bin[b_idxs[i]])))\n",
    "        circle.append((int)(np.ceil(radius_bin[r_idxs[i]])))\n",
    "        circles.append(circle)\n",
    "        \n",
    "    return circles"
   ]
  },
  {
   "cell_type": "code",
   "execution_count": null,
   "metadata": {
    "collapsed": false
   },
   "outputs": [],
   "source": [
    "def hough_transform_circle_opencv(input_image,min_radius,max_radius,threshold):\n",
    "    canny_edge = cv2.Canny(input_image, 32, 2)\n",
    "    #input_image = cv2.imread('circle.png',cv2.IMREAD_GRAYSCALE)\n",
    "    circles = cv2.HoughCircles(input_image,3,2, 100, 30, threshold,min_radius,max_radius)\n",
    "    \n",
    "    for i in circles[0,:]:\n",
    "        # draw the outer circle\n",
    "        cv2.circle(input_image,(i[0],i[1]),i[2],(0,255,0),2)\n",
    "        # draw the center of the circle\n",
    "        cv2.circle(input_image,(i[0],i[1]),2,(0,0,255),3)\n",
    "\n",
    "    return canny_edge,input_image"
   ]
  },
  {
   "cell_type": "code",
   "execution_count": null,
   "metadata": {
    "collapsed": false
   },
   "outputs": [],
   "source": [
    "def hough_tranformation_circle(resolution=100,threshold=20,min_radius=5,max_radius=5):\n",
    "    input_image = cv2.imread('circle.png',cv2.IMREAD_GRAYSCALE)\n",
    "    hough_circle_mine_image = cv2.imread('circle.png',cv2.IMREAD_GRAYSCALE)\n",
    "    input_image1 = cv2.imread('circle.png',cv2.IMREAD_GRAYSCALE)\n",
    "    canny_edge,hough_circle_opencv = hough_transform_circle_opencv(input_image1,min_radius,max_radius,threshold)\n",
    "    hough_circle_mine = my_HoughCircles(hough_circle_mine_image, resolution, threshold, min_radius, max_radius)\n",
    "    \n",
    "    for i in hough_circle_mine:\n",
    "        # draw the outer circle\n",
    "        cv2.circle(hough_circle_mine_image,(i[0],i[1]),i[2],(0,255,0),2)\n",
    "        # draw the center of the circle\n",
    "        cv2.circle(hough_circle_mine_image,(i[0],i[1]),2,(0,0,255),3)\n",
    "    \n",
    "    \n",
    "    fig2, axes_array = plt.subplots(1, 3)\n",
    "    fig2.set_size_inches(9,3)\n",
    "    image_plot = axes_array[0].imshow(input_image,cmap=plt.cm.gray) \n",
    "    axes_array[0].axis('off')\n",
    "    axes_array[0].set(title='Original image')\n",
    "    image_plot = axes_array[1].imshow(hough_circle_opencv)\n",
    "    axes_array[1].axis('off')\n",
    "    axes_array[1].set(title='Hough Circle OpenCV')\n",
    "    image_plot = axes_array[2].imshow(hough_circle_mine_image)\n",
    "    axes_array[2].axis('off')\n",
    "    axes_array[2].set(title='Hough Circle Mine')\n",
    "    \n",
    "    plt.show()\n",
    "    return 0\n",
    "\n",
    "\n",
    "interact(hough_tranformation_circle,\n",
    "         resolution=IntSlider(min=100, max=1000, step=1,value=100, continuous_update=False),\n",
    "         threshold=IntSlider(min=20, max=1000, step=1,value=50, continuous_update=False),\n",
    "         min_radius=IntSlider(min=5, max=1000, step=1,value=20,continuous_update=False),\n",
    "         max_radius=IntSlider(min=5, max=1000, step=1,value=50,continuous_update=False)) "
   ]
  }
 ],
 "metadata": {
  "anaconda-cloud": {},
  "kernelspec": {
   "display_name": "Python [conda root]",
   "language": "python",
   "name": "conda-root-py"
  },
  "language_info": {
   "codemirror_mode": {
    "name": "ipython",
    "version": 3
   },
   "file_extension": ".py",
   "mimetype": "text/x-python",
   "name": "python",
   "nbconvert_exporter": "python",
   "pygments_lexer": "ipython3",
   "version": "3.5.2"
  }
 },
 "nbformat": 4,
 "nbformat_minor": 1
}
